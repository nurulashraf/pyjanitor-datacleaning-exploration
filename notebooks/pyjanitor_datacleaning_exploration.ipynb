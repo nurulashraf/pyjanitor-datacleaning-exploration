{
  "nbformat": 4,
  "nbformat_minor": 0,
  "metadata": {
    "colab": {
      "provenance": []
    },
    "kernelspec": {
      "name": "python3",
      "display_name": "Python 3"
    },
    "language_info": {
      "name": "python"
    }
  },
  "cells": [
    {
      "cell_type": "markdown",
      "source": [
        "# **Exploring PyJanitor: A Data Cleaning Companion for Pandas**"
      ],
      "metadata": {
        "id": "107WAFXSb4TX"
      }
    },
    {
      "cell_type": "markdown",
      "source": [
        "\n",
        "\n",
        "---\n",
        "\n",
        "\n",
        "<p align=\"justify\">Dat cleaning and preprocessing are fundamental steps in any data analysis or machine learning workflow. Often, these tasks can be repetitive and time-consuming, requiring multiple lines of code. Fortunately, libraries like PyJanitor emerge to streamline these processes and enhance productivity.\n",
        "\n",
        "<p align=\"justify\">PyJanitor is a powerful Python library built on top of pandas, inspired by the R package of the same name. It provides a rich set of functions designed to simplify and accelerate common data cleaning operations. From standardizing column names and handling missing values to filtering data and chaining multiple transformations, PyJanitor aims to make your data cleaning workflow more efficient and readable.\n",
        "\n",
        "<p align=\"justify\">In this notebook, we will explore some of the core functionalities of PyJanitor and see how it can help us clean and prepare our data with ease. We'll cover topics such as cleaning column names, renaming columns, handling missing values, filtering and selecting data, and the powerful concept of method chaining. By the end, you'll have a better understanding of how PyJanitor can become an invaluable tool in your data cleaning arsenal.\n",
        "\n"
      ],
      "metadata": {
        "id": "iXQLzleccexF"
      }
    },
    {
      "cell_type": "markdown",
      "source": [
        "\n",
        "\n",
        "---\n",
        "\n"
      ],
      "metadata": {
        "id": "cmZuykFEcZHM"
      }
    },
    {
      "cell_type": "markdown",
      "source": [
        "## **Install PyJanitor**"
      ],
      "metadata": {
        "id": "kbMvHmD0NIIE"
      }
    },
    {
      "cell_type": "code",
      "execution_count": 1,
      "metadata": {
        "colab": {
          "base_uri": "https://localhost:8080/"
        },
        "id": "zLdvkffeMig7",
        "outputId": "089bdc10-d032-4360-cd9c-ce0631ab5bf2"
      },
      "outputs": [
        {
          "output_type": "stream",
          "name": "stdout",
          "text": [
            "Requirement already satisfied: pyjanitor in /usr/local/lib/python3.11/dist-packages (0.31.0)\n",
            "Requirement already satisfied: natsort in /usr/local/lib/python3.11/dist-packages (from pyjanitor) (8.4.0)\n",
            "Requirement already satisfied: pandas_flavor in /usr/local/lib/python3.11/dist-packages (from pyjanitor) (0.7.0)\n",
            "Requirement already satisfied: multipledispatch in /usr/local/lib/python3.11/dist-packages (from pyjanitor) (1.0.0)\n",
            "Requirement already satisfied: scipy in /usr/local/lib/python3.11/dist-packages (from pyjanitor) (1.15.3)\n",
            "Requirement already satisfied: pandas>=0.23 in /usr/local/lib/python3.11/dist-packages (from pandas_flavor->pyjanitor) (2.2.2)\n",
            "Requirement already satisfied: xarray in /usr/local/lib/python3.11/dist-packages (from pandas_flavor->pyjanitor) (2025.3.1)\n",
            "Requirement already satisfied: numpy<2.5,>=1.23.5 in /usr/local/lib/python3.11/dist-packages (from scipy->pyjanitor) (2.0.2)\n",
            "Requirement already satisfied: python-dateutil>=2.8.2 in /usr/local/lib/python3.11/dist-packages (from pandas>=0.23->pandas_flavor->pyjanitor) (2.9.0.post0)\n",
            "Requirement already satisfied: pytz>=2020.1 in /usr/local/lib/python3.11/dist-packages (from pandas>=0.23->pandas_flavor->pyjanitor) (2025.2)\n",
            "Requirement already satisfied: tzdata>=2022.7 in /usr/local/lib/python3.11/dist-packages (from pandas>=0.23->pandas_flavor->pyjanitor) (2025.2)\n",
            "Requirement already satisfied: packaging>=23.2 in /usr/local/lib/python3.11/dist-packages (from xarray->pandas_flavor->pyjanitor) (24.2)\n",
            "Requirement already satisfied: six>=1.5 in /usr/local/lib/python3.11/dist-packages (from python-dateutil>=2.8.2->pandas>=0.23->pandas_flavor->pyjanitor) (1.17.0)\n"
          ]
        }
      ],
      "source": [
        "!pip install pyjanitor"
      ]
    },
    {
      "cell_type": "markdown",
      "source": [
        "## **Import Libraries**"
      ],
      "metadata": {
        "id": "aMcfCNCvNLUS"
      }
    },
    {
      "cell_type": "code",
      "source": [
        "import janitor\n",
        "import pandas as pd"
      ],
      "metadata": {
        "id": "43bbkRLgNAnO"
      },
      "execution_count": 2,
      "outputs": []
    },
    {
      "cell_type": "markdown",
      "source": [
        "## **1. Cleaning Column Names**"
      ],
      "metadata": {
        "id": "QeBRRy9jNRD4"
      }
    },
    {
      "cell_type": "markdown",
      "source": [
        "With PyJanitor's `clean_names()` function, we can quickly standardise our column names making them uniform and consistent with just a simple call.\n",
        "\n",
        "What this powerful function can do:\n",
        "\n",
        "*   replaces spaces with underscores\n",
        "*   converts all characters to lowercase\n",
        "*   strips leading and trailing whitespace\n",
        "*   replaces dots with underscores\n"
      ],
      "metadata": {
        "id": "VV02GvQQNf1S"
      }
    },
    {
      "cell_type": "markdown",
      "source": [
        "### Example:"
      ],
      "metadata": {
        "id": "va6KDbEfQNT2"
      }
    },
    {
      "cell_type": "code",
      "source": [
        "#Create a data frame with inconsistent column names\n",
        "students = pd.DataFrame({\n",
        "    'Student.ID': [1, 2, 3],\n",
        "    'Student Name': ['Nurul', 'Cahaya', 'Sam'],\n",
        "    'Student Gender': ['Male', 'Female', 'Male'],\n",
        "    'Course': ['Calculus', 'Data Science', 'Database'],\n",
        "    'Grade': ['A', 'B', 'C'],\n",
        "})\n",
        "\n",
        "#Clean the column names\n",
        "cleaned_student = students.clean_names()\n",
        "print(cleaned_student)"
      ],
      "metadata": {
        "colab": {
          "base_uri": "https://localhost:8080/"
        },
        "id": "zIFri4kvNTSz",
        "outputId": "838d89bf-7bf8-4688-801b-01205d053442"
      },
      "execution_count": 3,
      "outputs": [
        {
          "output_type": "stream",
          "name": "stdout",
          "text": [
            "   student_id student_name student_gender        course grade\n",
            "0           1        Nurul           Male      Calculus     A\n",
            "1           2       Cahaya         Female  Data Science     B\n",
            "2           3          Sam           Male      Database     C\n"
          ]
        }
      ]
    },
    {
      "cell_type": "markdown",
      "source": [
        "\n",
        "\n",
        "---\n",
        "\n"
      ],
      "metadata": {
        "id": "juixwu3pXg0t"
      }
    },
    {
      "cell_type": "markdown",
      "source": [
        "## **2. Renaming Columns**"
      ],
      "metadata": {
        "id": "D8cQldnoQmzZ"
      }
    },
    {
      "cell_type": "markdown",
      "source": [
        "Renaming columns can significantly improve data clarity, readability, and consistency.\n",
        "\n",
        "The `rename_column()` function makes this process straightforward."
      ],
      "metadata": {
        "id": "__Qhx__oQpnV"
      }
    },
    {
      "cell_type": "markdown",
      "source": [
        "### Example:"
      ],
      "metadata": {
        "id": "dVhq2h37SHnD"
      }
    },
    {
      "cell_type": "code",
      "source": [
        "students = pd.DataFrame({\n",
        "    'stu_id': [1, 2],\n",
        "    'stu_name': ['Michael', 'Jackson'],\n",
        "})\n",
        "\n",
        "# Renaming the columns\n",
        "students = students.rename_column('stu_id', 'Student_ID')\n",
        "students = students.rename_column('stu_name', 'Student_Name')\n",
        "print(students.columns)"
      ],
      "metadata": {
        "colab": {
          "base_uri": "https://localhost:8080/"
        },
        "id": "HfD9tFCdR6-S",
        "outputId": "2afab40a-2c1d-4af5-b0fe-876de671fc00"
      },
      "execution_count": 4,
      "outputs": [
        {
          "output_type": "stream",
          "name": "stdout",
          "text": [
            "Index(['Student_ID', 'Student_Name'], dtype='object')\n"
          ]
        },
        {
          "output_type": "stream",
          "name": "stderr",
          "text": [
            "/usr/local/lib/python3.11/dist-packages/pandas_flavor/register.py:164: FutureWarning: This function will be deprecated in a 1.x release. Please use `pd.DataFrame.rename` instead.\n",
            "  return method(self._obj, *args, **kwargs)\n"
          ]
        }
      ]
    },
    {
      "cell_type": "markdown",
      "source": [
        "\n",
        "\n",
        "---\n",
        "\n"
      ],
      "metadata": {
        "id": "vF0_DjG4Xe7Y"
      }
    },
    {
      "cell_type": "markdown",
      "source": [
        "## 3. Handling Missing Values"
      ],
      "metadata": {
        "id": "aS-iWzd0SPea"
      }
    },
    {
      "cell_type": "markdown",
      "source": [
        "Missing values can be a major challenge when working with datasets.\n",
        "\n",
        "The `fill_empty()` function provides us an effective solution for handling them with ease.\n"
      ],
      "metadata": {
        "id": "Dm2zax8xSQ1K"
      }
    },
    {
      "cell_type": "markdown",
      "source": [
        "### Example:"
      ],
      "metadata": {
        "id": "1vNJJpSWSkTT"
      }
    },
    {
      "cell_type": "code",
      "source": [
        "# Create a data frame with missing values\n",
        "employees = pd.DataFrame({\n",
        "    'employee_id': [1, 2, 3],\n",
        "    'name': [None, 'Diego', 'Messi'],\n",
        "    'department': ['Marketing', None, 'IT'],\n",
        "    'salary': [60000, 55000, None],\n",
        "})"
      ],
      "metadata": {
        "id": "-K5n3vuTSfnm"
      },
      "execution_count": 5,
      "outputs": []
    },
    {
      "cell_type": "markdown",
      "source": [
        "How PyJanitor can assist in filling up these missing values:"
      ],
      "metadata": {
        "id": "Lh_2ZB-zTAvY"
      }
    },
    {
      "cell_type": "code",
      "source": [
        "# Fill missing values in 'department' and 'name' with 'Unknown' and 'salary' with the mean salary\n",
        "employees = employees.fill_empty(column_names=['name', 'department'], value='Unknown')\n",
        "employees = employees.fill_empty(column_names='salary', value=employees['salary'].mean())\n",
        "\n",
        "print(employees)"
      ],
      "metadata": {
        "colab": {
          "base_uri": "https://localhost:8080/"
        },
        "id": "zQfDdpzFTNZ0",
        "outputId": "34a241c9-96cb-4288-f1cd-fe6afc2d06ac"
      },
      "execution_count": 6,
      "outputs": [
        {
          "output_type": "stream",
          "name": "stdout",
          "text": [
            "   employee_id     name department   salary\n",
            "0            1  Unknown  Marketing  60000.0\n",
            "1            2    Diego    Unknown  55000.0\n",
            "2            3    Messi         IT  57500.0\n"
          ]
        },
        {
          "output_type": "stream",
          "name": "stderr",
          "text": [
            "/usr/local/lib/python3.11/dist-packages/pandas_flavor/register.py:164: FutureWarning: This function will be deprecated in a 1.x release. Kindly use `jn.impute` instead.\n",
            "  return method(self._obj, *args, **kwargs)\n"
          ]
        }
      ]
    },
    {
      "cell_type": "markdown",
      "source": [
        "<p align=\"justify\">In this example, the department of the employee 'Diego' is replaced with 'Unknown', while the salary of 'Messi' is filled using the average salary of the 'Unknown' and 'Diego' entries. There are multiple strategies available for handling missing values, such as forward fill, backward fill, or filling with a specified value."
      ],
      "metadata": {
        "id": "GjzH_k8JVjwK"
      }
    },
    {
      "cell_type": "markdown",
      "source": [
        "\n",
        "\n",
        "---\n",
        "\n"
      ],
      "metadata": {
        "id": "uadd3VACYDu1"
      }
    },
    {
      "cell_type": "markdown",
      "source": [
        "## **4. Filtering Rows & Selecting Columns**"
      ],
      "metadata": {
        "id": "yltL0CRsVwvV"
      }
    },
    {
      "cell_type": "markdown",
      "source": [
        "<p align=\"justify\">Filtering rows and columns is an essential step in data analysis. PyJanitor streamlines this task with convenient functions that let you easily select columns and filter rows according to defined conditions.\n"
      ],
      "metadata": {
        "id": "PTkBc5iWWKJs"
      }
    },
    {
      "cell_type": "markdown",
      "source": [
        "### Example:"
      ],
      "metadata": {
        "id": "37ewulJhWVEC"
      }
    },
    {
      "cell_type": "code",
      "source": [
        "# Create a data frame with student data\n",
        "students = pd.DataFrame({\n",
        "    'student_id': [1, 2, 3, 4, 5],\n",
        "    'name': ['Ali', 'Siti', 'Mei', 'Muthu', 'Sam'],\n",
        "    'subject': ['Maths', 'Science', 'English', 'History','Biology'],\n",
        "    'marks': [85, 58, 92, 45, 75],\n",
        "    'grade': ['A', 'C', 'A', 'D', 'B'],\n",
        "})\n",
        "\n",
        "# Filter rows where marks are less than 60\n",
        "filtered_students = students.query('marks >= 60')\n",
        "print(filtered_students)"
      ],
      "metadata": {
        "colab": {
          "base_uri": "https://localhost:8080/"
        },
        "id": "WG2LIWKGV2lf",
        "outputId": "db8ddbd8-79b0-4e9f-c1bb-05943483f67b"
      },
      "execution_count": 7,
      "outputs": [
        {
          "output_type": "stream",
          "name": "stdout",
          "text": [
            "   student_id name  subject  marks grade\n",
            "0           1  Ali    Maths     85     A\n",
            "2           3  Mei  English     92     A\n",
            "4           5  Sam  Biology     75     B\n"
          ]
        }
      ]
    },
    {
      "cell_type": "markdown",
      "source": [
        "<p align=\"justify\">Now, let's say you only want to display specific columns, such as just the name and ID, instead of the entire dataset.\n",
        "\n",
        "PyJanitor makes this easy to accomplish with a simple and clear approach:\n"
      ],
      "metadata": {
        "id": "q9wnpN1uXD41"
      }
    },
    {
      "cell_type": "code",
      "source": [
        "# Select specific columns\n",
        "selected_columns_df = filtered_students.loc[:,['student_id', 'name']]"
      ],
      "metadata": {
        "id": "gJj88CghXLO0"
      },
      "execution_count": 8,
      "outputs": []
    },
    {
      "cell_type": "markdown",
      "source": [
        "\n",
        "\n",
        "---\n",
        "\n"
      ],
      "metadata": {
        "id": "fpmlGe2ZYPKD"
      }
    },
    {
      "cell_type": "markdown",
      "source": [
        "## **5. Chaining Methods**"
      ],
      "metadata": {
        "id": "bdgP5nOtYQCd"
      }
    },
    {
      "cell_type": "markdown",
      "source": [
        "<p align=\"justify\">One of PyJanitor's standout features is its method chaining capability, which allows us to perform multiple operations seamlessly in a single line of code.\n"
      ],
      "metadata": {
        "id": "X0izdI-PYUZ8"
      }
    },
    {
      "cell_type": "markdown",
      "source": [
        "### Example:"
      ],
      "metadata": {
        "id": "2ku4-nTIYgiZ"
      }
    },
    {
      "cell_type": "code",
      "source": [
        "# Create a data frame with sample car data\n",
        "cars = pd.DataFrame({\n",
        "    'Car ID': [101, None, 103, 104, 105],\n",
        "    'Car Model': ['Proton', 'Perodua', 'Toyota', 'Honda', 'Tesla'],\n",
        "    'Price': [25000, 30000, None, 40000, 45000],\n",
        "    'Year': [2018, 2019, 2017, 2020, None],\n",
        "})\n",
        "\n",
        "print(\"Cars Data Before Applying Method Chaining:\\n\")\n",
        "print(cars)"
      ],
      "metadata": {
        "colab": {
          "base_uri": "https://localhost:8080/"
        },
        "id": "xFaYPKt3Yie8",
        "outputId": "a4b49aee-233d-44da-82bc-87a001cd1c7b"
      },
      "execution_count": 11,
      "outputs": [
        {
          "output_type": "stream",
          "name": "stdout",
          "text": [
            "Cars Data Before Applying Method Chaining:\n",
            "\n",
            "   Car ID Car Model    Price    Year\n",
            "0   101.0    Proton  25000.0  2018.0\n",
            "1     NaN   Perodua  30000.0  2019.0\n",
            "2   103.0    Toyota      NaN  2017.0\n",
            "3   104.0     Honda  40000.0  2020.0\n",
            "4   105.0     Tesla  45000.0     NaN\n"
          ]
        }
      ]
    },
    {
      "cell_type": "markdown",
      "source": [
        "The data frame currently contains missing values and inconsistent column names. While we could address these issues step by step using functions like `clean_names()`, `rename_column()`, and `dropna()` over multiple lines, a more elegant solution is to chain these methods together. This allows us to perform all operations in a single, streamlined line of code, resulting in a more fluent workflow and cleaner, more readable code.\n"
      ],
      "metadata": {
        "id": "ii211djvZvlV"
      }
    },
    {
      "cell_type": "code",
      "source": [
        "# Chain methods to clean column names, drop rows with missing values, select specific columns, and rename columns\n",
        "cleaned_cars = (\n",
        "    cars\n",
        "    .clean_names()  # Clean column names\n",
        "    .dropna()  # Drop rows with missing values\n",
        "    .select_columns(['car_id', 'car_model', 'price'])  # Select columns\n",
        "    .rename_column('price', 'price_usd')  # Rename column\n",
        ")\n",
        "\n",
        "print(\"Cars Data After Applying Method Chaining:\\n\")\n",
        "print(cleaned_cars)"
      ],
      "metadata": {
        "colab": {
          "base_uri": "https://localhost:8080/"
        },
        "id": "Bjv-vGdsZ1o2",
        "outputId": "2d16778a-b29f-4de7-8094-3c7d841b6ac1"
      },
      "execution_count": 12,
      "outputs": [
        {
          "output_type": "stream",
          "name": "stdout",
          "text": [
            "Cars Data After Applying Method Chaining:\n",
            "\n",
            "   car_id car_model  price_usd\n",
            "0   101.0    Proton    25000.0\n",
            "3   104.0     Honda    40000.0\n"
          ]
        },
        {
          "output_type": "stream",
          "name": "stderr",
          "text": [
            "/usr/local/lib/python3.11/dist-packages/pandas_flavor/register.py:164: FutureWarning: This function will be deprecated in a 1.x release. Please use `jn.select` instead.\n",
            "  return method(self._obj, *args, **kwargs)\n",
            "/usr/local/lib/python3.11/dist-packages/pandas_flavor/register.py:164: FutureWarning: This function will be deprecated in a 1.x release. Please use `pd.DataFrame.rename` instead.\n",
            "  return method(self._obj, *args, **kwargs)\n"
          ]
        }
      ]
    },
    {
      "cell_type": "markdown",
      "source": [
        "In this pipeline, the following operations are carried out:\n",
        "\n",
        "* `clean_names()` standardises and cleans the column names.\n",
        "* `dropna()` removes any rows that contain missing values.\n",
        "* `select_columns()` filters the dataset to include only the ‘car\\_id’, ‘car\\_model’, and ‘price’ columns.\n",
        "* `rename_column()` changes the column name ‘price’ to ‘price\\_usd’."
      ],
      "metadata": {
        "id": "G-hEllrCaOjO"
      }
    },
    {
      "cell_type": "markdown",
      "source": [
        "## **Conclusion**"
      ],
      "metadata": {
        "id": "qCVQRSSZa1vF"
      }
    },
    {
      "cell_type": "markdown",
      "source": [
        "PyJanitor is an invaluable library for anyone working with data. Beyond the features covered in this exploration, it offers a wide range of powerful tools such as encoding categorical variables, extracting features and labels, detecting duplicate rows, and many more. All these advanced capabilities can be further explored in its [documentation](https://pyjanitor-devs.github.io/pyjanitor/). I believe the more we explore Pyjanitor, the more we’ll appreciate its robust functionality.\n"
      ],
      "metadata": {
        "id": "ReX-d7GXa5CS"
      }
    }
  ]
}
